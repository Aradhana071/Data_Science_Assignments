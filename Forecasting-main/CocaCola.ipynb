{
 "cells": [
  {
   "cell_type": "code",
   "execution_count": 1,
   "id": "fe29f0fb",
   "metadata": {},
   "outputs": [],
   "source": [
    "import numpy as np\n",
    "import pandas as pd\n",
    "import matplotlib.pyplot as plt\n",
    "import seaborn as sns\n",
    "import statsmodels.formula.api as smf"
   ]
  },
  {
   "cell_type": "code",
   "execution_count": 2,
   "id": "159924b8",
   "metadata": {},
   "outputs": [],
   "source": [
    "data=pd.read_excel('CocaCola_Sales_Rawdata.xlsx')"
   ]
  },
  {
   "cell_type": "code",
   "execution_count": 3,
   "id": "6f9df87d",
   "metadata": {},
   "outputs": [
    {
     "data": {
      "text/plain": [
       "Quarter    0\n",
       "Sales      0\n",
       "dtype: int64"
      ]
     },
     "execution_count": 3,
     "metadata": {},
     "output_type": "execute_result"
    }
   ],
   "source": [
    "data.isnull().sum()"
   ]
  },
  {
   "cell_type": "code",
   "execution_count": 4,
   "id": "186c87e0",
   "metadata": {},
   "outputs": [
    {
     "name": "stdout",
     "output_type": "stream",
     "text": [
      "<class 'pandas.core.frame.DataFrame'>\n",
      "RangeIndex: 42 entries, 0 to 41\n",
      "Data columns (total 2 columns):\n",
      " #   Column   Non-Null Count  Dtype  \n",
      "---  ------   --------------  -----  \n",
      " 0   Quarter  42 non-null     object \n",
      " 1   Sales    42 non-null     float64\n",
      "dtypes: float64(1), object(1)\n",
      "memory usage: 800.0+ bytes\n"
     ]
    }
   ],
   "source": [
    "data.info()"
   ]
  },
  {
   "cell_type": "code",
   "execution_count": 5,
   "id": "0969a598",
   "metadata": {},
   "outputs": [
    {
     "data": {
      "text/html": [
       "<div>\n",
       "<style scoped>\n",
       "    .dataframe tbody tr th:only-of-type {\n",
       "        vertical-align: middle;\n",
       "    }\n",
       "\n",
       "    .dataframe tbody tr th {\n",
       "        vertical-align: top;\n",
       "    }\n",
       "\n",
       "    .dataframe thead th {\n",
       "        text-align: right;\n",
       "    }\n",
       "</style>\n",
       "<table border=\"1\" class=\"dataframe\">\n",
       "  <thead>\n",
       "    <tr style=\"text-align: right;\">\n",
       "      <th></th>\n",
       "      <th>Quarter</th>\n",
       "      <th>Sales</th>\n",
       "    </tr>\n",
       "  </thead>\n",
       "  <tbody>\n",
       "    <tr>\n",
       "      <th>0</th>\n",
       "      <td>Q1_86</td>\n",
       "      <td>1734.827000</td>\n",
       "    </tr>\n",
       "    <tr>\n",
       "      <th>1</th>\n",
       "      <td>Q2_86</td>\n",
       "      <td>2244.960999</td>\n",
       "    </tr>\n",
       "    <tr>\n",
       "      <th>2</th>\n",
       "      <td>Q3_86</td>\n",
       "      <td>2533.804993</td>\n",
       "    </tr>\n",
       "    <tr>\n",
       "      <th>3</th>\n",
       "      <td>Q4_86</td>\n",
       "      <td>2154.962997</td>\n",
       "    </tr>\n",
       "    <tr>\n",
       "      <th>4</th>\n",
       "      <td>Q1_87</td>\n",
       "      <td>1547.818996</td>\n",
       "    </tr>\n",
       "  </tbody>\n",
       "</table>\n",
       "</div>"
      ],
      "text/plain": [
       "  Quarter        Sales\n",
       "0   Q1_86  1734.827000\n",
       "1   Q2_86  2244.960999\n",
       "2   Q3_86  2533.804993\n",
       "3   Q4_86  2154.962997\n",
       "4   Q1_87  1547.818996"
      ]
     },
     "execution_count": 5,
     "metadata": {},
     "output_type": "execute_result"
    }
   ],
   "source": [
    "data.head()"
   ]
  },
  {
   "cell_type": "code",
   "execution_count": 6,
   "id": "e224d1aa",
   "metadata": {},
   "outputs": [
    {
     "data": {
      "text/plain": [
       "[<matplotlib.lines.Line2D at 0xa865db5bb0>]"
      ]
     },
     "execution_count": 6,
     "metadata": {},
     "output_type": "execute_result"
    },
    {
     "data": {
      "image/png": "[encoded data removed]",
      "text/plain": [
       "<Figure size 432x288 with 1 Axes>"
      ]
     },
     "metadata": {
      "needs_background": "light"
     },
     "output_type": "display_data"
    }
   ],
   "source": [
    "# Visualizing the data\n",
    "plt.title(\"Line Plot\", size=15, weight='bold')\n",
    "plt.ylabel(\"Sales\", size=10, weight='bold')\n",
    "plt.plot(data['Sales'])"
   ]
  },
  {
   "cell_type": "code",
   "execution_count": 7,
   "id": "c5551328",
   "metadata": {},
   "outputs": [],
   "source": [
    "quarters=['Q1','Q2','Q3','Q4']\n",
    "quarters=pd.DataFrame(quarters)\n",
    "Quarters=pd.DataFrame(np.tile(quarters,(11,1)))\n",
    "Cocacola=pd.concat([data,Quarters],axis=1)\n",
    "Cocacola=Cocacola.dropna()\n",
    "Cocacola.columns=['Quarter','Sales','quarters']"
   ]
  },
  {
   "cell_type": "code",
   "execution_count": 8,
   "id": "68f2e653",
   "metadata": {},
   "outputs": [],
   "source": [
    "Quarter_dummies=pd.get_dummies(Cocacola['quarters'])\n",
    "Cocacola=pd.concat([Cocacola,Quarter_dummies],axis=1)\n",
    "Cocacola['t']=np.arange(1,43)\n",
    "Cocacola['t_sq']=Cocacola['t']*Cocacola['t']\n",
    "Cocacola['log_sales']=np.log(Cocacola['Sales'])"
   ]
  },
  {
   "cell_type": "code",
   "execution_count": 9,
   "id": "c422676e",
   "metadata": {},
   "outputs": [],
   "source": [
    "Train=Cocacola[0:30]\n",
    "Test=Cocacola[30:]\n"
   ]
  },
  {
   "cell_type": "code",
   "execution_count": 10,
   "id": "f2b60605",
   "metadata": {},
   "outputs": [
    {
     "data": {
      "text/plain": [
       "714.0144483281297"
      ]
     },
     "execution_count": 10,
     "metadata": {},
     "output_type": "execute_result"
    }
   ],
   "source": [
    "#Linear Model \n",
    "import statsmodels.formula.api as smf\n",
    "lin_model=smf.ols('Sales~t',data=Train).fit()\n",
    "predict_lin=lin_model.predict(Test['t'])\n",
    "error_lin=Test['Sales']-predict_lin\n",
    "rmse_lin=np.sqrt(np.mean(error_lin**2))\n",
    "rmse_lin"
   ]
  },
  {
   "cell_type": "code",
   "execution_count": 11,
   "id": "5a946f4a",
   "metadata": {},
   "outputs": [
    {
     "data": {
      "text/plain": [
       "4252.188990972336"
      ]
     },
     "execution_count": 11,
     "metadata": {},
     "output_type": "execute_result"
    }
   ],
   "source": [
    "#Exponential Model \n",
    "import statsmodels.formula.api as smf\n",
    "exp_model=smf.ols('log_sales~t',data=Train).fit()\n",
    "predict_exp=exp_model.predict(Test['t'])\n",
    "error_exp=Test['Sales']-predict_exp\n",
    "rmse_exp=np.sqrt(np.mean(error_exp**2))\n",
    "rmse_exp"
   ]
  },
  {
   "cell_type": "code",
   "execution_count": 12,
   "id": "7fc86362",
   "metadata": {},
   "outputs": [
    {
     "data": {
      "text/plain": [
       "646.2715428311323"
      ]
     },
     "execution_count": 12,
     "metadata": {},
     "output_type": "execute_result"
    }
   ],
   "source": [
    "#Quadratic Model \n",
    "quad_model=smf.ols('Sales~t+t_sq',data=Train).fit()\n",
    "predict_quad=quad_model.predict(Test[['t','t_sq']])\n",
    "error_quad=Test['Sales']-predict_quad\n",
    "rmse_quad=np.sqrt(np.mean(error_quad**2))\n",
    "rmse_quad"
   ]
  },
  {
   "cell_type": "code",
   "execution_count": 13,
   "id": "acde88ea",
   "metadata": {},
   "outputs": [
    {
     "data": {
      "text/plain": [
       "1778.0065467941363"
      ]
     },
     "execution_count": 13,
     "metadata": {},
     "output_type": "execute_result"
    }
   ],
   "source": [
    "#Additive Seasonality\n",
    "add_sea_model=smf.ols('Sales~Q1+Q2+Q3+Q4',data=Train).fit()\n",
    "predict_add_sea=add_sea_model.predict(Test[['Q1','Q2','Q3','Q4']])\n",
    "error_add_sea=Test['Sales']-predict_add_sea\n",
    "rmse_add_sea=np.sqrt(np.mean(error_add_sea**2))\n",
    "rmse_add_sea"
   ]
  },
  {
   "cell_type": "code",
   "execution_count": 14,
   "id": "b4e9f49a",
   "metadata": {},
   "outputs": [
    {
     "data": {
      "text/plain": [
       "586.0533067870459"
      ]
     },
     "execution_count": 14,
     "metadata": {},
     "output_type": "execute_result"
    }
   ],
   "source": [
    "#Additive Seasonality Quadratic\n",
    "add_sea_quad_model=smf.ols('Sales~Q1+Q2+Q3+Q4+t+t_sq',data=Train).fit()\n",
    "predict_add_sea_quad=add_sea_quad_model.predict(Test[['Q1','Q2','Q3','Q4','t','t_sq']])\n",
    "error_add_sea_quad=Test['Sales']-predict_add_sea_quad\n",
    "rmse_add_sea_quad=np.sqrt(np.mean(error_add_sea_quad**2))\n",
    "rmse_add_sea_quad"
   ]
  },
  {
   "cell_type": "code",
   "execution_count": 15,
   "id": "0faba362",
   "metadata": {},
   "outputs": [
    {
     "data": {
      "text/plain": [
       "4252.638677789394"
      ]
     },
     "execution_count": 15,
     "metadata": {},
     "output_type": "execute_result"
    }
   ],
   "source": [
    "#Multiplicative Seasonality \n",
    "mul_sea_model=smf.ols('log_sales~Q1+Q2+Q3+Q4',data=Train).fit()\n",
    "predict_mul_sea=mul_sea_model.predict(Test[['Q1','Q2','Q3','Q4']])\n",
    "error_mul_sea=Test['Sales']-predict_mul_sea\n",
    "rmse_mul_sea=np.sqrt(np.mean(error_mul_sea**2))\n",
    "rmse_mul_sea"
   ]
  },
  {
   "cell_type": "code",
   "execution_count": 16,
   "id": "35cc6f80",
   "metadata": {},
   "outputs": [
    {
     "data": {
      "text/plain": [
       "4252.185655793222"
      ]
     },
     "execution_count": 16,
     "metadata": {},
     "output_type": "execute_result"
    }
   ],
   "source": [
    "#Multiplicative Additive Seasonality \n",
    "mul_add_sea_model=smf.ols('log_sales~t+Q1+Q2+Q3+Q4',data=Train).fit()\n",
    "predict_mul_add_sea=mul_add_sea_model.predict(Test[['t','Q1','Q2','Q3','Q4']])\n",
    "error_mul_add_sea=Test['Sales']-predict_mul_add_sea\n",
    "rmse_mul_add_sea=np.sqrt(np.mean(error_mul_add_sea**2))\n",
    "rmse_mul_add_sea"
   ]
  },
  {
   "cell_type": "code",
   "execution_count": 17,
   "id": "e82390e0",
   "metadata": {},
   "outputs": [
    {
     "data": {
      "text/html": [
       "<div>\n",
       "<style scoped>\n",
       "    .dataframe tbody tr th:only-of-type {\n",
       "        vertical-align: middle;\n",
       "    }\n",
       "\n",
       "    .dataframe tbody tr th {\n",
       "        vertical-align: top;\n",
       "    }\n",
       "\n",
       "    .dataframe thead th {\n",
       "        text-align: right;\n",
       "    }\n",
       "</style>\n",
       "<table border=\"1\" class=\"dataframe\">\n",
       "  <thead>\n",
       "    <tr style=\"text-align: right;\">\n",
       "      <th></th>\n",
       "      <th>model</th>\n",
       "      <th>rmse_val</th>\n",
       "    </tr>\n",
       "  </thead>\n",
       "  <tbody>\n",
       "    <tr>\n",
       "      <th>0</th>\n",
       "      <td>lin_model</td>\n",
       "      <td>714.014448</td>\n",
       "    </tr>\n",
       "    <tr>\n",
       "      <th>1</th>\n",
       "      <td>exp_model</td>\n",
       "      <td>4252.188991</td>\n",
       "    </tr>\n",
       "    <tr>\n",
       "      <th>2</th>\n",
       "      <td>quad_model</td>\n",
       "      <td>646.271543</td>\n",
       "    </tr>\n",
       "    <tr>\n",
       "      <th>3</th>\n",
       "      <td>add_sea</td>\n",
       "      <td>1778.006547</td>\n",
       "    </tr>\n",
       "    <tr>\n",
       "      <th>4</th>\n",
       "      <td>add_sea_quad</td>\n",
       "      <td>586.053307</td>\n",
       "    </tr>\n",
       "    <tr>\n",
       "      <th>5</th>\n",
       "      <td>mul_sea</td>\n",
       "      <td>4252.638678</td>\n",
       "    </tr>\n",
       "    <tr>\n",
       "      <th>6</th>\n",
       "      <td>mul_add_sea</td>\n",
       "      <td>4252.185656</td>\n",
       "    </tr>\n",
       "  </tbody>\n",
       "</table>\n",
       "</div>"
      ],
      "text/plain": [
       "          model     rmse_val\n",
       "0     lin_model   714.014448\n",
       "1     exp_model  4252.188991\n",
       "2    quad_model   646.271543\n",
       "3       add_sea  1778.006547\n",
       "4  add_sea_quad   586.053307\n",
       "5       mul_sea  4252.638678\n",
       "6   mul_add_sea  4252.185656"
      ]
     },
     "execution_count": 17,
     "metadata": {},
     "output_type": "execute_result"
    }
   ],
   "source": [
    "data={'model':['lin_model','exp_model','quad_model','add_sea','add_sea_quad','mul_sea','mul_add_sea'],'rmse_val':[rmse_lin,rmse_exp,rmse_quad,rmse_add_sea,rmse_add_sea_quad,rmse_mul_sea,rmse_mul_add_sea]}\n",
    "rmse_table=pd.DataFrame(data)\n",
    "rmse_table"
   ]
  },
  {
   "cell_type": "markdown",
   "id": "07f75db3",
   "metadata": {},
   "source": [
    "#### Additive Seasonality Quadratic is having least rmse\n",
    "#### So Additive Seasonality Quadratic model is the best model"
   ]
  },
  {
   "cell_type": "code",
   "execution_count": null,
   "id": "a595bafb",
   "metadata": {},
   "outputs": [],
   "source": []
  }
 ],
 "metadata": {
  "kernelspec": {
   "display_name": "Python 3 (ipykernel)",
   "language": "python",
   "name": "python3"
  },
  "language_info": {
   "codemirror_mode": {
    "name": "ipython",
    "version": 3
   },
   "file_extension": ".py",
   "mimetype": "text/x-python",
   "name": "python",
   "nbconvert_exporter": "python",
   "pygments_lexer": "ipython3",
   "version": "3.9.7"
  }
 },
 "nbformat": 4,
 "nbformat_minor": 5
}
